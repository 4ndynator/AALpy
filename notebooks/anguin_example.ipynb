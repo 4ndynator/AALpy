from aalpy.SULs import DfaSUL
from aalpy.learning_algs import run_Lstar
from aalpy.oracles import RandomWalkEqOracle
from aalpy.utils import get_Angluin_dfa

dfa = get_Angluin_dfa()

alphabet = dfa.get_input_alphabet()

sul = DfaSUL(dfa)
eq_oracle = RandomWalkEqOracle(alphabet, sul, 500)

learned_dfa = run_Lstar(alphabet, sul, eq_oracle, automaton_type='dfa',
                        cache_and_non_det_check=True, cex_processing=None, print_level=3)

print(learned_dfa)